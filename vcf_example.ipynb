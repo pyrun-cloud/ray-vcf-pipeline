{
 "cells": [
  {
   "cell_type": "code",
   "execution_count": null,
   "id": "cf20a84f",
   "metadata": {},
   "outputs": [],
   "source": [
    "import ray\n",
    "import numpy as np\n",
    "import pandas as pd\n",
    "import joblib\n",
    "\n",
    "from collections import Counter\n",
    "from ray.util.joblib import register_ray\n",
    "from sklearn.model_selection import RandomizedSearchCV\n",
    "from sklearn.svm import SVC\n",
    "\n",
    "from cloud_data_cockpit import DataCockpit"
   ]
  },
  {
   "cell_type": "code",
   "execution_count": null,
   "id": "68ac87a2",
   "metadata": {},
   "outputs": [],
   "source": [
    "ray.init()\n",
    "register_ray()"
   ]
  },
  {
   "cell_type": "markdown",
   "id": "501a5ecf",
   "metadata": {},
   "source": [
    "## Loading and Partitioning FASTA Sequences with DataCockpit\n",
    "\n",
    "In this cell, we will initialize the data loader and prepare a FASTA file for distributed processing with Ray. You should:\n",
    "\n",
    "1. **Specify a FASTA file path**  \n",
    "   - Point to the FASTA file you want to process (e.g. `sequences.fasta`).  \n",
    "\n",
    "2. **Define the number of _chunks_**  \n",
    "   - Choose into how many partitions (_chunks_) you want to split the sequence data.  \n",
    "   - Proper chunking allows Ray to balance the workload across workers.\n",
    "\n",
    "3. **Partition the FASTA file**  \n",
    "   - Use DataCockpit to read and split the file into the defined number of _chunks_.  \n",
    "\n",
    "4. **Run the rest of the notebook with Ray**  \n",
    "   - After partitioning, Ray will manage parallel sequence processing.  \n",
    "   - Ensure your Ray cluster is initialized before executing downstream analysis.\n"
   ]
  },
  {
   "cell_type": "code",
   "execution_count": null,
   "id": "ed842081",
   "metadata": {},
   "outputs": [],
   "source": [
    "data_loader = DataCockpit()"
   ]
  },
  {
   "cell_type": "code",
   "execution_count": null,
   "id": "a5fac91f",
   "metadata": {},
   "outputs": [],
   "source": [
    "slices = data_loader.get_data_slices()"
   ]
  },
  {
   "cell_type": "code",
   "execution_count": null,
   "id": "217952a4",
   "metadata": {},
   "outputs": [],
   "source": [
    "def parse_vcf_line(line: str) -> dict:\n",
    "    cols = line.split(\"\\t\")\n",
    "    if len(cols) < 9:\n",
    "        return {}\n",
    "    chrom, pos, vid, ref, alt, qual, flt, info, fmt, *samples = cols\n",
    "    info_dict = {}\n",
    "    for entry in info.split(\";\"):\n",
    "        if \"=\" in entry:\n",
    "            key, val = entry.split(\"=\", 1)\n",
    "            try:\n",
    "                val = int(val)\n",
    "            except ValueError:\n",
    "                try:\n",
    "                    val = float(val)\n",
    "                except ValueError:\n",
    "                    pass\n",
    "            info_dict[key] = val\n",
    "        else:\n",
    "            info_dict[entry] = True\n",
    "    return {\n",
    "        \"CHROM\": chrom,\n",
    "        \"POS\": int(pos),\n",
    "        \"ID\": vid,\n",
    "        \"REF\": ref,\n",
    "        \"ALT\": [] if alt == \".\" else alt.split(\",\"),\n",
    "        \"QUAL\": None if qual == \".\" else float(qual),\n",
    "        \"FILTER\": flt,\n",
    "        **info_dict,\n",
    "        \"FORMAT\": fmt,\n",
    "        \"SAMPLES\": samples,\n",
    "    }"
   ]
  },
  {
   "cell_type": "code",
   "execution_count": null,
   "id": "09e3d676",
   "metadata": {},
   "outputs": [],
   "source": [
    "total_counts = Counter()\n",
    "for slice in slices:\n",
    "    raw = slice.get()\n",
    "    for line in raw.splitlines():\n",
    "        if not line or line.startswith(\"#\"):\n",
    "            continue\n",
    "        rec = parse_vcf_line(line)\n",
    "        if rec:\n",
    "            total_counts[rec[\"CHROM\"]] += 1"
   ]
  },
  {
   "cell_type": "code",
   "execution_count": null,
   "id": "9adeebf8",
   "metadata": {},
   "outputs": [],
   "source": [
    "print(\"Variants per chromosome:\")\n",
    "for chrom, cnt in sorted(total_counts.items()):\n",
    "    print(f\"  {chrom}: {cnt}\")\n"
   ]
  },
  {
   "cell_type": "code",
   "execution_count": null,
   "id": "8218b7c6",
   "metadata": {},
   "outputs": [],
   "source": [
    "ray.shutdown()"
   ]
  }
 ],
 "metadata": {
  "kernelspec": {
   "display_name": "Python 3",
   "language": "python",
   "name": "python3"
  },
  "language_info": {
   "codemirror_mode": {
    "name": "ipython",
    "version": 3
   },
   "file_extension": ".py",
   "mimetype": "text/x-python",
   "name": "python",
   "nbconvert_exporter": "python",
   "pygments_lexer": "ipython3",
   "version": "3.10.17"
  }
 },
 "nbformat": 4,
 "nbformat_minor": 5
}
